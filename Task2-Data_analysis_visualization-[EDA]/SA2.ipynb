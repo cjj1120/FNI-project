{
 "cells": [
  {
   "cell_type": "code",
   "execution_count": 51,
   "metadata": {},
   "outputs": [
    {
     "data": {
      "text/html": [
       "<div>\n",
       "<style scoped>\n",
       "    .dataframe tbody tr th:only-of-type {\n",
       "        vertical-align: middle;\n",
       "    }\n",
       "\n",
       "    .dataframe tbody tr th {\n",
       "        vertical-align: top;\n",
       "    }\n",
       "\n",
       "    .dataframe thead th {\n",
       "        text-align: right;\n",
       "    }\n",
       "</style>\n",
       "<table border=\"1\" class=\"dataframe\">\n",
       "  <thead>\n",
       "    <tr style=\"text-align: right;\">\n",
       "      <th></th>\n",
       "      <th>year</th>\n",
       "      <th>month</th>\n",
       "      <th>text</th>\n",
       "      <th>date</th>\n",
       "      <th>sentiment</th>\n",
       "      <th>sentiment_comp</th>\n",
       "    </tr>\n",
       "  </thead>\n",
       "  <tbody>\n",
       "    <tr>\n",
       "      <th>0</th>\n",
       "      <td>2021</td>\n",
       "      <td>1</td>\n",
       "      <td>idk bother alcohol inflation time high rn</td>\n",
       "      <td>2021-01-25 07:57:47</td>\n",
       "      <td>-0.4215</td>\n",
       "      <td>neg</td>\n",
       "    </tr>\n",
       "    <tr>\n",
       "      <th>1</th>\n",
       "      <td>2021</td>\n",
       "      <td>1</td>\n",
       "      <td>inflation much money mean price rise eventuall...</td>\n",
       "      <td>2021-01-25 07:57:40</td>\n",
       "      <td>0.0000</td>\n",
       "      <td>pos</td>\n",
       "    </tr>\n",
       "    <tr>\n",
       "      <th>2</th>\n",
       "      <td>2021</td>\n",
       "      <td>1</td>\n",
       "      <td>exert daily fix talk inflation roll deafen exu...</td>\n",
       "      <td>2021-01-25 07:57:15</td>\n",
       "      <td>-0.5574</td>\n",
       "      <td>neg</td>\n",
       "    </tr>\n",
       "    <tr>\n",
       "      <th>3</th>\n",
       "      <td>2021</td>\n",
       "      <td>1</td>\n",
       "      <td>regard michellin explain recent price rise inf...</td>\n",
       "      <td>2021-01-25 07:57:08</td>\n",
       "      <td>0.0000</td>\n",
       "      <td>pos</td>\n",
       "    </tr>\n",
       "    <tr>\n",
       "      <th>4</th>\n",
       "      <td>2021</td>\n",
       "      <td>1</td>\n",
       "      <td>oh mike since clearly unaware inflation level ...</td>\n",
       "      <td>2021-01-25 07:56:55</td>\n",
       "      <td>-0.2732</td>\n",
       "      <td>neg</td>\n",
       "    </tr>\n",
       "  </tbody>\n",
       "</table>\n",
       "</div>"
      ],
      "text/plain": [
       "   year  month                                               text  \\\n",
       "0  2021      1          idk bother alcohol inflation time high rn   \n",
       "1  2021      1  inflation much money mean price rise eventuall...   \n",
       "2  2021      1  exert daily fix talk inflation roll deafen exu...   \n",
       "3  2021      1  regard michellin explain recent price rise inf...   \n",
       "4  2021      1  oh mike since clearly unaware inflation level ...   \n",
       "\n",
       "                 date  sentiment sentiment_comp  \n",
       "0 2021-01-25 07:57:47    -0.4215            neg  \n",
       "1 2021-01-25 07:57:40     0.0000            pos  \n",
       "2 2021-01-25 07:57:15    -0.5574            neg  \n",
       "3 2021-01-25 07:57:08     0.0000            pos  \n",
       "4 2021-01-25 07:56:55    -0.2732            neg  "
      ]
     },
     "execution_count": 51,
     "metadata": {},
     "output_type": "execute_result"
    }
   ],
   "source": [
    "import pandas as pd\n",
    "import seaborn as sns \n",
    "\n",
    "df = pd.read_csv(\"sentiment_analysis.csv\").iloc[:, 1:]\n",
    "df['date'] = pd.DatetimeIndex(df['date'])\n",
    "df.head()"
   ]
  },
  {
   "cell_type": "code",
   "execution_count": 20,
   "metadata": {},
   "outputs": [
    {
     "data": {
      "text/plain": [
       "0     2021-01-25 07:57:47\n",
       "1     2021-01-25 07:57:40\n",
       "2     2021-01-25 07:57:15\n",
       "3     2021-01-25 07:57:08\n",
       "4     2021-01-25 07:56:55\n",
       "              ...        \n",
       "503   2021-08-25 07:49:17\n",
       "504   2021-08-25 07:49:14\n",
       "505   2021-08-25 07:49:08\n",
       "506   2021-08-25 07:48:43\n",
       "507   2021-09-25 07:55:06\n",
       "Name: date, Length: 508, dtype: datetime64[ns]"
      ]
     },
     "execution_count": 20,
     "metadata": {},
     "output_type": "execute_result"
    }
   ],
   "source": [
    "df.date"
   ]
  },
  {
   "cell_type": "code",
   "execution_count": 32,
   "metadata": {},
   "outputs": [
    {
     "data": {
      "text/plain": [
       "<pandas.core.groupby.generic.SeriesGroupBy object at 0x1230fab20>"
      ]
     },
     "execution_count": 32,
     "metadata": {},
     "output_type": "execute_result"
    }
   ],
   "source": [
    "df.groupby([(df['date'].dt.year), (df['date'].dt.month)])['sentiment_comp']"
   ]
  },
  {
   "cell_type": "code",
   "execution_count": 38,
   "metadata": {},
   "outputs": [
    {
     "data": {
      "text/plain": [
       "array([15, 96, 20, 18, 34, 77, 36, 51, 28, 59, 18, 56])"
      ]
     },
     "execution_count": 38,
     "metadata": {},
     "output_type": "execute_result"
    }
   ],
   "source": [
    "x = df.groupby([(df['date'].dt.year), (df['date'].dt.month)])['text'].count()\n",
    "total_tweet_by_month = x.values\n",
    "total_tweet_by_month"
   ]
  },
  {
   "cell_type": "code",
   "execution_count": 49,
   "metadata": {},
   "outputs": [
    {
     "data": {
      "text/plain": [
       "[-0.06143333333333333,\n",
       " 0.09746041666666666,\n",
       " 0.132015,\n",
       " 0.26035555555555556,\n",
       " 0.06966176470588235,\n",
       " 0.09693506493506493,\n",
       " 0.02440833333333334,\n",
       " -0.022368627450980394,\n",
       " -0.07986071428571428,\n",
       " 0.07255593220338984,\n",
       " -0.04740000000000001,\n",
       " -0.04725892857142857]"
      ]
     },
     "execution_count": 49,
     "metadata": {},
     "output_type": "execute_result"
    }
   ],
   "source": [
    "y = df.groupby([(df['date'].dt.year), (df['date'].dt.month)])['sentiment'].sum()\n",
    "x = df.groupby([(df['date'].dt.year), (df['date'].dt.month)])['sentiment'].mean()\n",
    "# total_tweet_by_month = x.values\n",
    "# total_tweet_by_month\n",
    "average_sentiment = x.values\n",
    "z = [m/n for m, n in zip(y.values, total_tweet_by_month)]\n",
    "z"
   ]
  },
  {
   "cell_type": "code",
   "execution_count": 50,
   "metadata": {},
   "outputs": [
    {
     "data": {
      "text/plain": [
       "array([-0.06143333,  0.09746042,  0.132015  ,  0.26035556,  0.06966176,\n",
       "        0.09693506,  0.02440833, -0.02236863, -0.07986071,  0.07255593,\n",
       "       -0.0474    , -0.04725893])"
      ]
     },
     "execution_count": 50,
     "metadata": {},
     "output_type": "execute_result"
    }
   ],
   "source": [
    "average_sentiment"
   ]
  },
  {
   "cell_type": "code",
   "execution_count": 48,
   "metadata": {},
   "outputs": [
    {
     "data": {
      "text/plain": [
       "508"
      ]
     },
     "execution_count": 48,
     "metadata": {},
     "output_type": "execute_result"
    }
   ],
   "source": [
    "total_data = total_tweet_by_month.sum()\n",
    "total_data"
   ]
  },
  {
   "cell_type": "code",
   "execution_count": 54,
   "metadata": {},
   "outputs": [],
   "source": [
    "import calendar\n",
    "month_list = list(calendar.month_name)[1:]\n"
   ]
  },
  {
   "cell_type": "code",
   "execution_count": null,
   "metadata": {},
   "outputs": [],
   "source": []
  },
  {
   "cell_type": "code",
   "execution_count": 59,
   "metadata": {},
   "outputs": [
    {
     "name": "stderr",
     "output_type": "stream",
     "text": [
      "/Users/jiong/opt/miniconda3/envs/py38-fni/lib/python3.8/site-packages/seaborn/_decorators.py:36: FutureWarning: Pass the following variables as keyword args: x, y. From version 0.12, the only valid positional argument will be `data`, and passing other arguments without an explicit keyword will result in an error or misinterpretation.\n",
      "  warnings.warn(\n"
     ]
    },
    {
     "data": {
      "image/png": "[encoded data removed]",
      "text/plain": [
       "<Figure size 432x288 with 1 Axes>"
      ]
     },
     "metadata": {
      "needs_background": "light"
     },
     "output_type": "display_data"
    }
   ],
   "source": [
    "# swarm_plot = sns.swarmplot(...)\n",
    "# fig = swarm_plot.get_figure()\n",
    "# fig.savefig(\"out.png\") \n",
    "\n",
    "viz = sns.barplot(average_sentiment, month_list).set_title(\"Average sentiment across 2021\")\n",
    "viz.get_figure().savefig(\"average_sentiment-2021.png\")"
   ]
  },
  {
   "cell_type": "code",
   "execution_count": 80,
   "metadata": {},
   "outputs": [
    {
     "data": {
      "text/html": [
       "<div>\n",
       "<style scoped>\n",
       "    .dataframe tbody tr th:only-of-type {\n",
       "        vertical-align: middle;\n",
       "    }\n",
       "\n",
       "    .dataframe tbody tr th {\n",
       "        vertical-align: top;\n",
       "    }\n",
       "\n",
       "    .dataframe thead th {\n",
       "        text-align: right;\n",
       "    }\n",
       "</style>\n",
       "<table border=\"1\" class=\"dataframe\">\n",
       "  <thead>\n",
       "    <tr style=\"text-align: right;\">\n",
       "      <th></th>\n",
       "      <th>country</th>\n",
       "      <th>Jan</th>\n",
       "      <th>Feb</th>\n",
       "      <th>Mar</th>\n",
       "      <th>Apr</th>\n",
       "      <th>May</th>\n",
       "      <th>Jun</th>\n",
       "      <th>Jul</th>\n",
       "      <th>Aug</th>\n",
       "      <th>Sep</th>\n",
       "      <th>Oct</th>\n",
       "      <th>Nov</th>\n",
       "      <th>Dec</th>\n",
       "    </tr>\n",
       "  </thead>\n",
       "  <tbody>\n",
       "    <tr>\n",
       "      <th>0</th>\n",
       "      <td>Canada</td>\n",
       "      <td>1.023392</td>\n",
       "      <td>1.091703</td>\n",
       "      <td>2.196193</td>\n",
       "      <td>3.389831</td>\n",
       "      <td>3.600294</td>\n",
       "      <td>3.061224</td>\n",
       "      <td>3.717201</td>\n",
       "      <td>4.087591</td>\n",
       "      <td>4.382761</td>\n",
       "      <td>4.654545</td>\n",
       "      <td>4.720407</td>\n",
       "      <td>4.803493</td>\n",
       "    </tr>\n",
       "    <tr>\n",
       "      <th>1</th>\n",
       "      <td>France</td>\n",
       "      <td>0.554812</td>\n",
       "      <td>0.564431</td>\n",
       "      <td>1.109093</td>\n",
       "      <td>1.243305</td>\n",
       "      <td>1.422978</td>\n",
       "      <td>1.479149</td>\n",
       "      <td>1.150299</td>\n",
       "      <td>1.865068</td>\n",
       "      <td>2.161645</td>\n",
       "      <td>2.621759</td>\n",
       "      <td>2.778573</td>\n",
       "      <td>2.753430</td>\n",
       "    </tr>\n",
       "    <tr>\n",
       "      <th>2</th>\n",
       "      <td>Germany</td>\n",
       "      <td>1.045627</td>\n",
       "      <td>1.325758</td>\n",
       "      <td>1.702933</td>\n",
       "      <td>1.979265</td>\n",
       "      <td>2.547170</td>\n",
       "      <td>2.345216</td>\n",
       "      <td>3.770028</td>\n",
       "      <td>3.867925</td>\n",
       "      <td>4.064272</td>\n",
       "      <td>4.532578</td>\n",
       "      <td>5.238095</td>\n",
       "      <td>5.308057</td>\n",
       "    </tr>\n",
       "    <tr>\n",
       "      <th>3</th>\n",
       "      <td>Italy</td>\n",
       "      <td>0.388727</td>\n",
       "      <td>0.583658</td>\n",
       "      <td>0.777454</td>\n",
       "      <td>1.067961</td>\n",
       "      <td>1.264591</td>\n",
       "      <td>1.263362</td>\n",
       "      <td>1.947420</td>\n",
       "      <td>2.038835</td>\n",
       "      <td>2.541544</td>\n",
       "      <td>3.024390</td>\n",
       "      <td>3.710938</td>\n",
       "      <td>3.898635</td>\n",
       "    </tr>\n",
       "    <tr>\n",
       "      <th>4</th>\n",
       "      <td>Japan</td>\n",
       "      <td>-0.696517</td>\n",
       "      <td>-0.498504</td>\n",
       "      <td>-0.398804</td>\n",
       "      <td>-1.097804</td>\n",
       "      <td>-0.699301</td>\n",
       "      <td>-0.400400</td>\n",
       "      <td>-0.300000</td>\n",
       "      <td>-0.399600</td>\n",
       "      <td>0.200200</td>\n",
       "      <td>0.100200</td>\n",
       "      <td>0.603015</td>\n",
       "      <td>0.805639</td>\n",
       "    </tr>\n",
       "    <tr>\n",
       "      <th>5</th>\n",
       "      <td>Russian Federation</td>\n",
       "      <td>5.194624</td>\n",
       "      <td>5.666421</td>\n",
       "      <td>5.781998</td>\n",
       "      <td>5.519768</td>\n",
       "      <td>6.014380</td>\n",
       "      <td>6.511564</td>\n",
       "      <td>6.469082</td>\n",
       "      <td>6.692701</td>\n",
       "      <td>7.408057</td>\n",
       "      <td>8.135333</td>\n",
       "      <td>8.403798</td>\n",
       "      <td>8.393000</td>\n",
       "    </tr>\n",
       "    <tr>\n",
       "      <th>6</th>\n",
       "      <td>United Kingdom</td>\n",
       "      <td>0.923361</td>\n",
       "      <td>0.736648</td>\n",
       "      <td>1.012891</td>\n",
       "      <td>1.657459</td>\n",
       "      <td>2.209945</td>\n",
       "      <td>2.389706</td>\n",
       "      <td>2.014652</td>\n",
       "      <td>3.033088</td>\n",
       "      <td>2.930403</td>\n",
       "      <td>3.846154</td>\n",
       "      <td>4.582951</td>\n",
       "      <td>4.844607</td>\n",
       "    </tr>\n",
       "    <tr>\n",
       "      <th>7</th>\n",
       "      <td>United States</td>\n",
       "      <td>1.399770</td>\n",
       "      <td>1.676215</td>\n",
       "      <td>2.619763</td>\n",
       "      <td>4.159695</td>\n",
       "      <td>4.992707</td>\n",
       "      <td>5.391451</td>\n",
       "      <td>5.365475</td>\n",
       "      <td>5.251272</td>\n",
       "      <td>5.390349</td>\n",
       "      <td>6.221869</td>\n",
       "      <td>6.809003</td>\n",
       "      <td>7.036403</td>\n",
       "    </tr>\n",
       "  </tbody>\n",
       "</table>\n",
       "</div>"
      ],
      "text/plain": [
       "              country      Jan       Feb       Mar       Apr       May   \\\n",
       "0              Canada  1.023392  1.091703  2.196193  3.389831  3.600294   \n",
       "1              France  0.554812  0.564431  1.109093  1.243305  1.422978   \n",
       "2             Germany  1.045627  1.325758  1.702933  1.979265  2.547170   \n",
       "3               Italy  0.388727  0.583658  0.777454  1.067961  1.264591   \n",
       "4               Japan -0.696517 -0.498504 -0.398804 -1.097804 -0.699301   \n",
       "5  Russian Federation  5.194624  5.666421  5.781998  5.519768  6.014380   \n",
       "6      United Kingdom  0.923361  0.736648  1.012891  1.657459  2.209945   \n",
       "7       United States  1.399770  1.676215  2.619763  4.159695  4.992707   \n",
       "\n",
       "       Jun       Jul       Aug       Sep       Oct       Nov       Dec   \n",
       "0  3.061224  3.717201  4.087591  4.382761  4.654545  4.720407  4.803493  \n",
       "1  1.479149  1.150299  1.865068  2.161645  2.621759  2.778573  2.753430  \n",
       "2  2.345216  3.770028  3.867925  4.064272  4.532578  5.238095  5.308057  \n",
       "3  1.263362  1.947420  2.038835  2.541544  3.024390  3.710938  3.898635  \n",
       "4 -0.400400 -0.300000 -0.399600  0.200200  0.100200  0.603015  0.805639  \n",
       "5  6.511564  6.469082  6.692701  7.408057  8.135333  8.403798  8.393000  \n",
       "6  2.389706  2.014652  3.033088  2.930403  3.846154  4.582951  4.844607  \n",
       "7  5.391451  5.365475  5.251272  5.390349  6.221869  6.809003  7.036403  "
      ]
     },
     "execution_count": 80,
     "metadata": {},
     "output_type": "execute_result"
    }
   ],
   "source": [
    "df = pd.read_excel(\"Consumer_Price_Index_CPI.xlsx\")\n",
    "x = [x.replace('2021', '') for x in df.columns[1:].insert(0, \"country\")]\n",
    "df.columns = x \n",
    "df"
   ]
  },
  {
   "cell_type": "code",
   "execution_count": 84,
   "metadata": {},
   "outputs": [
    {
     "name": "stderr",
     "output_type": "stream",
     "text": [
      "/var/folders/4s/qf_5w4sd3_bc6pyrz5jp4hsc0000gn/T/ipykernel_69827/2294467503.py:1: FutureWarning: Dropping of nuisance columns in DataFrame reductions (with 'numeric_only=None') is deprecated; in a future version this will raise TypeError.  Select only valid columns before calling the reduction.\n",
      "  avg_inflation = df.mean(axis=0).values\n"
     ]
    },
    {
     "data": {
      "text/plain": [
       "array([1.2292244 , 1.39329118, 1.85019008, 2.23993484, 2.66909538,\n",
       "       2.75515911, 3.01676973, 3.30460986, 3.63490406, 4.1421036 ,\n",
       "       4.60584758, 4.73040812])"
      ]
     },
     "execution_count": 84,
     "metadata": {},
     "output_type": "execute_result"
    }
   ],
   "source": [
    "avg_inflation = df.mean(axis=0).values\n",
    "avg_inflation"
   ]
  },
  {
   "cell_type": "code",
   "execution_count": 73,
   "metadata": {},
   "outputs": [
    {
     "data": {
      "text/plain": [
       "9.833795192912374"
      ]
     },
     "execution_count": 73,
     "metadata": {},
     "output_type": "execute_result"
    }
   ],
   "source": [
    "df['Jan 2021'].sum()"
   ]
  },
  {
   "cell_type": "code",
   "execution_count": 89,
   "metadata": {},
   "outputs": [
    {
     "name": "stderr",
     "output_type": "stream",
     "text": [
      "/Users/jiong/opt/miniconda3/envs/py38-fni/lib/python3.8/site-packages/seaborn/_decorators.py:36: FutureWarning: Pass the following variables as keyword args: x, y. From version 0.12, the only valid positional argument will be `data`, and passing other arguments without an explicit keyword will result in an error or misinterpretation.\n",
      "  warnings.warn(\n"
     ]
    },
    {
     "data": {
      "image/png": "[encoded data removed]",
      "text/plain": [
       "<Figure size 432x288 with 1 Axes>"
      ]
     },
     "metadata": {
      "needs_background": "light"
     },
     "output_type": "display_data"
    }
   ],
   "source": [
    "viz = sns.barplot(avg_inflation, month_list).set_title(\"Average inflation across 7 major economies in 2021\")\n",
    "viz.get_figure().savefig(\"average_inflation-2021.png\", dpi=299)"
   ]
  },
  {
   "cell_type": "code",
   "execution_count": null,
   "metadata": {},
   "outputs": [],
   "source": []
  }
 ],
 "metadata": {
  "kernelspec": {
   "display_name": "Python 3.8.13 ('py38-fni')",
   "language": "python",
   "name": "python3"
  },
  "language_info": {
   "codemirror_mode": {
    "name": "ipython",
    "version": 3
   },
   "file_extension": ".py",
   "mimetype": "text/x-python",
   "name": "python",
   "nbconvert_exporter": "python",
   "pygments_lexer": "ipython3",
   "version": "3.8.13"
  },
  "orig_nbformat": 4,
  "vscode": {
   "interpreter": {
    "hash": "39f470f7d239cd57690727d435562bd6ab9212fe746384763b51ac2a549f93e3"
   }
  }
 },
 "nbformat": 4,
 "nbformat_minor": 2
}
