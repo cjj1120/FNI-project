{
 "cells": [
  {
   "cell_type": "code",
   "execution_count": 11,
   "id": "8e980e0a",
   "metadata": {},
   "outputs": [
    {
     "name": "stderr",
     "output_type": "stream",
     "text": [
      "[WDM] - Downloading:  86%|████████▌ | 5.34M/6.21M [00:00<00:00, 18.9MB/s]<ipython-input-11-3cbe1be5b376>:11: DeprecationWarning: executable_path has been deprecated, please pass in a Service object\n",
      "  driver = webdriver.Chrome(ChromeDriverManager().install())\n"
     ]
    }
   ],
   "source": [
    "# Import libraries\n",
    "# Main\n",
    "\n",
    "from selenium import webdriver\n",
    "from selenium.webdriver.common.keys import Keys\n",
    "from webdriver_manager.chrome import ChromeDriverManager\n",
    "from selenium.webdriver.chrome.service import Service\n",
    "from selenium.webdriver.common.by import By\n",
    "from bs4 import BeautifulSoup\n",
    "\n",
    "driver = webdriver.Chrome(ChromeDriverManager().install())\n",
    "driver.get('https://finance.yahoo.com/news/?guccounter=1&guce_referrer=aHR0cHM6Ly93d3cuZ29vZ2xlLmNvbS8&guce_referrer_sig=AQAAAF0b6z1BKuSHbHq1jYnlcjSrFXlLZ4q8-XmV0mPJKVpQ9xru-mgZnOC9D60r9docZgTT8D8PbF3X7IvBi2pOQr68ddCo4zdSaCp-_iC7QfHYwzwZD9beZYkAk6PJ8DOi1R9wP5I4VQcgoPSFk8h9ENI4DJ7_Cq-l_Ykwhh7dfJWa')\n"
   ]
  },
  {
   "cell_type": "code",
   "execution_count": 12,
   "id": "9d1911c6",
   "metadata": {},
   "outputs": [
    {
     "name": "stderr",
     "output_type": "stream",
     "text": [
      "\r\n",
      "[WDM] - Downloading: 100%|██████████| 6.21M/6.21M [00:20<00:00, 18.9MB/s]"
     ]
    }
   ],
   "source": [
    "\n",
    "driver.find_element(By.ID,\"yfin-usr-qry\").send_keys(\"inflation\")\n",
    "driver.find_element(By.ID,\"header-desktop-search-button\").click()"
   ]
  },
  {
   "cell_type": "code",
   "execution_count": 14,
   "id": "aa54b08c",
   "metadata": {},
   "outputs": [],
   "source": [
    "driver.find_element(By.XPATH,\"/html/body/div[1]/div/div/div[1]/div/div[3]/div[1]/div/div[5]/div/div/div/ul/li[10]/div/div/div[1]/h3/a\").click()"
   ]
  },
  {
   "cell_type": "code",
   "execution_count": 16,
   "id": "89cbfb2b",
   "metadata": {},
   "outputs": [
    {
     "name": "stdout",
     "output_type": "stream",
     "text": [
      "[<div class=\"caas-body\"><p>San Francisco, CA, based Investment company <a class=\"link rapid-noclick-resp\" data-rapid_p=\"99\" data-ylk=\"slk:Van Strum &amp; Towne Inc.\" href=\"https://www.gurufocus.com/guru/van+strum+%26+towne+inc./current-portfolio/portfolio\" rel=\"nofollow noopener\" target=\"_blank\">Van Strum &amp; Towne Inc.</a> (<a class=\"link rapid-noclick-resp\" data-rapid_p=\"100\" data-ylk=\"slk:Current Portfolio\" href=\"https://www.gurufocus.com/guru/van+strum+%26+towne+inc./current-portfolio/portfolio\" rel=\"nofollow noopener\" target=\"_blank\">Current Portfolio</a>) buys Vanguard Short-Term Inflation-Protected Securities, iShares California Muni Bond ETF, iShares TIPS Bond ETF, Schwab 1-5 Year Corporate Bond ETF, Schwab U.S. Large-Cap ETF, sells Vanguard Short-Term Bond ETF, Schlumberger, AT&amp;T Inc, Vanguard Total Bond Market ETF, 3M Co during the 3-months ended 2021Q4, according to the most recent filings of the investment company, Van Strum &amp; Towne Inc.. As of 2021Q4, Van Strum &amp; Towne Inc. owns 104 stocks with a total value of $276 million. These are the details of the buys and sells.<br/></p><ul class=\"caas-list caas-list-bullet\"><li><p><span>New Purchases: </span>CMF, TIP, ICE, PFF, IWD, TRV,</p></li><li><p><span>Added Positions: </span>VTIP, SCHJ, VCSH, SCHX, DIS, JNJ, SCHP, PEP, ABBV, GOOGL, SCHV, AMGN, VTI, AMZN, ALL, BRK.B, NTR,</p></li><li><p><span>Reduced Positions: </span>MSFT, VOO, SLB, IBM, SIVB, IGIB, MMM, COF, LQD, VZ, GE, NVS, SCHI, TMO, INTC, DHR, PPG, TGT, UNP, CMCSA, WFC, SCHW, CDNS, AAPL, ADBE,</p></li><li><p><span>Sold Out: </span>BSV, T, BND, KD,</p></li></ul><ul class=\"caas-list caas-list-bullet\"><li><p><a class=\"link rapid-noclick-resp\" data-rapid_p=\"101\" data-ylk=\"slk:Warning! GuruFocus has detected 2 Warning Sign with AMZN. Click here to check it out.\" href=\"http://www.gurufocus.com/financials/AMZN&amp;r=caf6fe0e0db70d936033da5461e60141&amp;utm_source=yahoo&amp;utm_medium=article&amp;utm_campaign=yahoo\" rel=\"nofollow noopener\" target=\"_blank\">Warning! GuruFocus has detected 2 Warning Sign with AMZN. Click here to check it out. </a></p></li><li><p><a class=\"link rapid-noclick-resp\" data-rapid_p=\"102\" data-ylk=\"slk:VTIP 15-Year Financial Data\" href=\"http://www.gurufocus.com/financials/VTIP&amp;r=caf6fe0e0db70d936033da5461e60141&amp;utm_source=yahoo&amp;utm_medium=article&amp;utm_campaign=yahoo\" rel=\"nofollow noopener\" target=\"_blank\">VTIP 15-Year Financial Data</a></p></li><li><p><a class=\"link rapid-noclick-resp\" data-rapid_p=\"103\" data-ylk=\"slk:The intrinsic value of VTIP\" href=\"http://www.gurufocus.com/analysis/VTIP&amp;subtab=val&amp;r=caf6fe0e0db70d936033da5461e60141&amp;utm_source=yahoo&amp;utm_medium=article&amp;utm_campaign=yahoo\" rel=\"nofollow noopener\" target=\"_blank\">The intrinsic value of VTIP</a></p></li><li><p><a class=\"link rapid-noclick-resp\" data-rapid_p=\"104\" data-ylk=\"slk:Peter Lynch Chart of VTIP\" href=\"http://www.gurufocus.com/chart/VTIP#&amp;serie=,,id:price,s:VTIP,,id:custompe,s:VTIP&amp;log=0&amp;per=0&amp;r=caf6fe0e0db70d936033da5461e60141&amp;utm_source=yahoo&amp;utm_medium=article&amp;utm_campaign=yahoo\" rel=\"nofollow noopener\" target=\"_blank\">Peter Lynch Chart of VTIP</a></p></li></ul><p><br/></p><p>For the details of VAN STRUM &amp; TOWNE INC.'s stock buys and sells,<br/>go to <a class=\"link rapid-noclick-resp\" data-rapid_p=\"105\" data-ylk=\"slk:https://www.gurufocus.com/guru/van+strum+%26+towne+inc./current-portfolio/portfolio\" href=\"https://www.gurufocus.com/guru/van+strum+%26+towne+inc./current-portfolio/portfolio\" rel=\"nofollow noopener\" target=\"_blank\">https://www.gurufocus.com/guru/van+strum+%26+towne+inc./current-portfolio/portfolio</a></p><div class=\"caas-da\"><div id=\"defaultINARTICLE\"></div></div><p><b>These are the top 5 holdings of VAN STRUM &amp; TOWNE INC.</b></p><ol class=\"caas-list\"><li><p>Microsoft Corp (<a class=\"link rapid-noclick-resp\" data-rapid_p=\"106\" data-ylk=\"slk:MSFT\" href=\"https://www.gurufocus.com/stock/NAS:MSFT/summary\" rel=\"nofollow noopener\" target=\"_blank\">MSFT</a>) - 72,007 shares, 8.78% of the total portfolio. Shares reduced by 4.92%</p></li><li><p>Vanguard Short-Term Inflation-Protected Securities (<a class=\"link rapid-noclick-resp\" data-rapid_p=\"107\" data-ylk=\"slk:VTIP\" href=\"https://www.gurufocus.com/stock/NAS:VTIP/summary\" rel=\"nofollow noopener\" target=\"_blank\">VTIP</a>) - 328,815 shares, 6.12% of the total portfolio. Shares added by 40.12%</p></li><li><p>Vanguard Short-Term Corporate Bond ETF (<a class=\"link rapid-noclick-resp\" data-rapid_p=\"108\" data-ylk=\"slk:VCSH\" href=\"https://www.gurufocus.com/stock/NAS:VCSH/summary\" rel=\"nofollow noopener\" target=\"_blank\">VCSH</a>) - 199,819 shares, 5.88% of the total portfolio. Shares added by 2.96%</p></li><li><p>Vanguard S&amp;P 500 ETF (VOO) - 33,950 shares, 5.37% of the total portfolio. Shares reduced by 6.18%</p></li><li><p>Automatic Data Processing Inc (ADP) - 58,298 shares, 5.21% of the total portfolio. Shares added by 0.70%</p></li></ol><p><b>New Purchase: iShares California Muni Bond ETF (CMF)</b><br/><br/></p><p>Van Strum &amp; Towne Inc. initiated holding in iShares California Muni Bond ETF. The purchase prices were between $61.47 and $62.25, with an estimated average price of $61.91. The stock is now traded at around $60.480100. The impact to a portfolio due to this purchase was 0.44%. The holding were 19,300 shares as of 2021-12-31.</p><div class=\"caas-readmore caas-readmore-collapse\"><button aria-label=\"\" class=\"link rapid-noclick-resp caas-button collapse-button\" data-rapid_p=\"109\" data-ylk=\"elm:readmore;slk:Story continues\" title=\"\">Story continues</button></div><p><b>New Purchase: iShares TIPS Bond ETF (TIP)</b><br/><br/></p><p>Van Strum &amp; Towne Inc. initiated holding in iShares TIPS Bond ETF. The purchase prices were between $126.18 and $129.42, with an estimated average price of $127.71. The stock is now traded at around $123.845000. The impact to a portfolio due to this purchase was 0.33%. The holding were 6,965 shares as of 2021-12-31.</p><p><b>New Purchase: Intercontinental Exchange Inc (ICE)</b><br/><br/></p><p>Van Strum &amp; Towne Inc. initiated holding in Intercontinental Exchange Inc. The purchase prices were between $114.7 and $138.81, with an estimated average price of $132.79. The stock is now traded at around $127.260000. The impact to a portfolio due to this purchase was 0.15%. The holding were 3,000 shares as of 2021-12-31.</p><p><b>New Purchase: iShares U.S. Preferred Stock (PFF)</b><br/><br/></p><p>Van Strum &amp; Towne Inc. initiated holding in iShares U.S. Preferred Stock. The purchase prices were between $37.87 and $39.31, with an estimated average price of $38.52. The stock is now traded at around $36.595000. The impact to a portfolio due to this purchase was 0.09%. The holding were 6,295 shares as of 2021-12-31.</p><p><b>New Purchase: iShares Russell 1000 Value ETF (IWD)</b><br/><br/></p><p>Van Strum &amp; Towne Inc. initiated holding in iShares Russell 1000 Value ETF. The purchase prices were between $156.44 and $168.08, with an estimated average price of $163.37. The stock is now traded at around $166.040000. The impact to a portfolio due to this purchase was 0.08%. The holding were 1,250 shares as of 2021-12-31.</p><p><b>New Purchase: The Travelers Companies Inc (TRV)</b><br/><br/></p><p>Van Strum &amp; Towne Inc. initiated holding in The Travelers Companies Inc. The purchase prices were between $145.48 and $162.37, with an estimated average price of $156.33. The stock is now traded at around $173.310000. The impact to a portfolio due to this purchase was 0.07%. The holding were 1,304 shares as of 2021-12-31.</p><p><b>Added: Vanguard Short-Term Inflation-Protected Securities (VTIP)</b><br/></p><p>Van Strum &amp; Towne Inc. added to a holding in Vanguard Short-Term Inflation-Protected Securities by 40.12%. The purchase prices were between $50.87 and $51.64, with an estimated average price of $51.18. The stock is now traded at around $50.715400. The impact to a portfolio due to this purchase was 1.75%. The holding were 328,815 shares as of 2021-12-31.</p><p><b>Added: Schwab 1-5 Year Corporate Bond ETF (SCHJ)</b><br/></p><p>Van Strum &amp; Towne Inc. added to a holding in Schwab 1-5 Year Corporate Bond ETF by 35.67%. The purchase prices were between $50.28 and $50.89, with an estimated average price of $50.54. The stock is now traded at around $49.700100. The impact to a portfolio due to this purchase was 0.21%. The holding were 42,500 shares as of 2021-12-31.</p><p><b>Added: Schwab U.S. Large-Cap ETF (SCHX)</b><br/></p><p>Van Strum &amp; Towne Inc. added to a holding in Schwab U.S. Large-Cap ETF by 28.66%. The purchase prices were between $103.39 and $114.55, with an estimated average price of $110.61. The stock is now traded at around $107.460000. The impact to a portfolio due to this purchase was 0.17%. The holding were 18,405 shares as of 2021-12-31.</p><p><b>Added: Schwab U.S. Large-Cap Value ETF (SCHV)</b><br/></p><p>Van Strum &amp; Towne Inc. added to a holding in Schwab U.S. Large-Cap Value ETF by 43.67%. The purchase prices were between $67.51 and $73.29, with an estimated average price of $70.8. The stock is now traded at around $71.800000. The impact to a portfolio due to this purchase was 0.05%. The holding were 6,300 shares as of 2021-12-31.</p><p><b>Added: Amazon.com Inc (AMZN)</b><br/></p><p>Van Strum &amp; Towne Inc. added to a holding in Amazon.com Inc by 23.44%. The purchase prices were between $3189.78 and $3696.06, with an estimated average price of $3427.48. The stock is now traded at around $3208.780000. The impact to a portfolio due to this purchase was 0.04%. The holding were 158 shares as of 2021-12-31.</p><p><b>Added: Allstate Corp (ALL)</b><br/></p><p>Van Strum &amp; Towne Inc. added to a holding in Allstate Corp by 66.85%. The purchase prices were between $107.13 and $129, with an estimated average price of $118.04. The stock is now traded at around $127.440000. The impact to a portfolio due to this purchase was 0.03%. The holding were 2,970 shares as of 2021-12-31.</p><p><b>Sold Out: Vanguard Short-Term Bond ETF (BSV)</b><br/></p><p>Van Strum &amp; Towne Inc. sold out a holding in Vanguard Short-Term Bond ETF. The sale prices were between $80.57 and $81.41, with an estimated average price of $80.91.</p><p><b>Sold Out: AT&amp;T Inc (T)</b><br/></p><p>Van Strum &amp; Towne Inc. sold out a holding in AT&amp;T Inc. The sale prices were between $22.17 and $27.35, with an estimated average price of $24.71.</p><p><b>Sold Out: Vanguard Total Bond Market ETF (BND)</b><br/></p><p>Van Strum &amp; Towne Inc. sold out a holding in Vanguard Total Bond Market ETF. The sale prices were between $83.93 and $85.34, with an estimated average price of $84.65.</p><p><b>Sold Out: Kyndryl Holdings Inc (KD)</b><br/></p><p>Van Strum &amp; Towne Inc. sold out a holding in Kyndryl Holdings Inc. The sale prices were between $15.75 and $40.75, with an estimated average price of $21.45.</p><p><br/><br/>Here is the complete portfolio of VAN STRUM &amp; TOWNE INC.. Also check out:<br/><br/>1. VAN STRUM &amp; TOWNE INC.'s Undervalued Stocks<br/><br/>2. VAN STRUM &amp; TOWNE INC.'s Top Growth Companies, and<br/><br/>3. VAN STRUM &amp; TOWNE INC.'s High Yield stocks<br/><br/>4. Stocks that VAN STRUM &amp; TOWNE INC. keeps buyingThis article first appeared on <a class=\"link rapid-noclick-resp\" data-rapid_p=\"110\" data-ylk=\"slk:GuruFocus\" href=\"http://www.gurufocus.com/news/1637476/van-strum--towne-inc-buys-vanguard-shortterm-inflationprotected-securities-ishares-california-muni-bond-etf-ishares-tips-bond-etf-sells-vanguard-shortterm-bond-etf-schlumberger-att-inc?r=caf6fe0e0db70d936033da5461e60141\" rel=\"nofollow noopener\" target=\"_blank\">GuruFocus</a>.<br/></p></div>]\n"
     ]
    }
   ],
   "source": [
    "import time\n",
    "soup = BeautifulSoup(driver.page_source,'html.parser')\n",
    "\n",
    "time.sleep(1)\n",
    "\n",
    "soup_list = soup.findAll(\"div\", attrs={\"class\":\"caas-body\"})\n",
    "print(soup_list)"
   ]
  },
  {
   "cell_type": "code",
   "execution_count": null,
   "id": "8c128eaf",
   "metadata": {},
   "outputs": [],
   "source": []
  }
 ],
 "metadata": {
  "kernelspec": {
   "display_name": "Python 3.8.13 ('py38-nlp')",
   "language": "python",
   "name": "python3"
  },
  "language_info": {
   "codemirror_mode": {
    "name": "ipython",
    "version": 3
   },
   "file_extension": ".py",
   "mimetype": "text/x-python",
   "name": "python",
   "nbconvert_exporter": "python",
   "pygments_lexer": "ipython3",
   "version": "3.8.13"
  },
  "vscode": {
   "interpreter": {
    "hash": "35fd612a9753ea480c4e7553188893dbcb825a23a5de28c51ec06ba12a3f77c0"
   }
  }
 },
 "nbformat": 4,
 "nbformat_minor": 5
}
